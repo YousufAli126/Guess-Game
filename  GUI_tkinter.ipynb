{
 "cells": [
  {
   "cell_type": "code",
   "execution_count": 6,
   "id": "48188ada-c83d-49af-97e4-2b457965f230",
   "metadata": {},
   "outputs": [],
   "source": [
    "from tkinter import*\n",
    "import tkinter as tk\n",
    "\n",
    "windows = tk.Tk()\n",
    "windows.title('GUI')\n",
    "windows.configure(bg='blue')\n",
    "windows.geometry('800x600')\n",
    "l1 = Label(windows,text='Hello',bg='white',fg='black',font=('algerian',24,'italic'))\n",
    "l1.pack(fill=X)\n",
    "\n",
    "l2 = Label(windows,text='Welcome to my GUI',bg='black',fg='red',font=('algerian',24,'italic'))\n",
    "l2.pack(fill=X)\n",
    "\n",
    "l3 = Label(windows,text='Enter your name: ',bg='red',fg='white',font=('algerian',18,'bold'))\n",
    "l3.pack(fill=X)\n",
    "\n",
    "name=StringVar\n",
    "box=Entry(windows,bd = 4,textvariable=name)\n",
    "box.pack(fill=X)\n",
    "\n",
    "windows.mainloop()\n"
   ]
  },
  {
   "cell_type": "code",
   "execution_count": 9,
   "id": "c482de4b-51d1-4eee-b4e9-e398b090914c",
   "metadata": {},
   "outputs": [],
   "source": [
    "from tkinter import*\n",
    "import tkinter as tk\n",
    "\n",
    "gui=tk.Tk()\n",
    "gui.geometry('800x600')\n",
    "\n",
    "def button1():\n",
    "    l.configure(text='Hello There!!')\n",
    "\n",
    "l = Label(gui,text='Welcome',font=('arial',18,'bold'))\n",
    "l.grid(row=0,column=0)\n",
    "\n",
    "b1=Button(gui,text='Enter',bg='red',fg='white',bd=5,command=button1)\n",
    "b1.grid(row=1,column=0)\n",
    "\n",
    "gui.mainloop()\n"
   ]
  },
  {
   "cell_type": "code",
   "execution_count": 15,
   "id": "dcd2236e-a716-47e4-b7b5-4bc8636d6ce0",
   "metadata": {},
   "outputs": [],
   "source": [
    "from tkinter import*\n",
    "import tkinter as tk\n",
    "\n",
    "x=tk.Tk()\n",
    "x.geometry('800x600')\n",
    "\n",
    "l=Label(x,text='choose your fav programming language',font=('arial',14,'bold'))\n",
    "l.grid(row=0,column=0)\n",
    "\n",
    "v=IntVar()\n",
    "tk.Radiobutton(x,text='Python',variable=v,value=1).grid(row=1,column=0)\n",
    "tk.Radiobutton(x,text='Java',variable=v,value=2).grid(row=2,column=0)\n",
    "tk.Radiobutton(x,text='C++',variable=v,value=3).grid(row=3,column=0)\n",
    "tk.Radiobutton(x,text='C#',variable=v,value=4).grid(row=4,column=0)\n",
    "\n",
    "x.mainloop()"
   ]
  },
  {
   "cell_type": "code",
   "execution_count": 33,
   "id": "3d194ec9-2413-45df-9cd3-b23a3eed53d4",
   "metadata": {},
   "outputs": [],
   "source": [
    "from tkinter import*\n",
    "import tkinter as tk\n",
    "\n",
    "game=tk.Tk()\n",
    "game.title('Guess the Number')\n",
    "game.configure(bg='orange')\n",
    "game.geometry('800x600')\n",
    "\n",
    "def button1():\n",
    "    b1.configure(text=88)\n",
    "    b1.configure(bg='red')\n",
    "    guess.configure(text='You Lose')\n",
    "def button2():\n",
    "    b2.configure(text=100)\n",
    "    b2.configure(bg='red')\n",
    "    guess.configure(text='You Won')\n",
    "def button3():\n",
    "    b3.configure(text=98)\n",
    "    b3.configure(bg='red')\n",
    "    guess.configure(text='You Lose')\n",
    "    \n",
    "guess=Label(game,text='Guess the number',font=('arial',20,'bold'),bg='cyan',fg='purple')\n",
    "guess.grid(row=0,column=1)\n",
    "b1=Button(game,text='Guess the number',bg='yellow',fg='black',bd=6,command=button1)\n",
    "b1.grid(row=1,column=1)\n",
    "b2=Button(game,text='Guess the number',bg='yellow',fg='black',bd=6,command=button2)\n",
    "b2.grid(row=2,column=1)\n",
    "b3=Button(game,text='Guess the number',bg='yellow',fg='black',bd=6,command=button3)\n",
    "b3.grid(row=3,column=1)\n",
    "\n",
    "game.mainloop()\n",
    "\n"
   ]
  },
  {
   "cell_type": "code",
   "execution_count": null,
   "id": "c15d64e6-1033-4355-af33-2dcbb087ae96",
   "metadata": {},
   "outputs": [],
   "source": []
  }
 ],
 "metadata": {
  "kernelspec": {
   "display_name": "Python 3 (ipykernel)",
   "language": "python",
   "name": "python3"
  },
  "language_info": {
   "codemirror_mode": {
    "name": "ipython",
    "version": 3
   },
   "file_extension": ".py",
   "mimetype": "text/x-python",
   "name": "python",
   "nbconvert_exporter": "python",
   "pygments_lexer": "ipython3",
   "version": "3.11.4"
  }
 },
 "nbformat": 4,
 "nbformat_minor": 5
}
